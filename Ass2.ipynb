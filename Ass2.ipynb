{
  "nbformat": 4,
  "nbformat_minor": 0,
  "metadata": {
    "colab": {
      "provenance": [],
      "authorship_tag": "ABX9TyNLoZokNT7AA8JDj1NN2s1J",
      "include_colab_link": true
    },
    "kernelspec": {
      "name": "python3",
      "display_name": "Python 3"
    },
    "language_info": {
      "name": "python"
    }
  },
  "cells": [
    {
      "cell_type": "markdown",
      "metadata": {
        "id": "view-in-github",
        "colab_type": "text"
      },
      "source": [
        "<a href=\"https://colab.research.google.com/github/Vanshika-goyal1/AI-Lab/blob/main/Ass2.ipynb\" target=\"_parent\"><img src=\"https://colab.research.google.com/assets/colab-badge.svg\" alt=\"Open In Colab\"/></a>"
      ]
    },
    {
      "cell_type": "markdown",
      "source": [
        "**Libraries**"
      ],
      "metadata": {
        "id": "6o8eo5kCf4A8"
      }
    },
    {
      "cell_type": "code",
      "execution_count": 2,
      "metadata": {
        "id": "40Z51J4xfKkK"
      },
      "outputs": [],
      "source": [
        "import numpy as np"
      ]
    },
    {
      "cell_type": "code",
      "source": [
        "a = np.array([1, 2, 3])\n",
        "b = np.array([4, 5, 6])\n",
        "np.dot(a,b)"
      ],
      "metadata": {
        "colab": {
          "base_uri": "https://localhost:8080/"
        },
        "id": "ZIGNhlddgFb2",
        "outputId": "e760c360-9b14-43f1-aa41-7291471833eb"
      },
      "execution_count": null,
      "outputs": [
        {
          "output_type": "execute_result",
          "data": {
            "text/plain": [
              "32"
            ]
          },
          "metadata": {},
          "execution_count": 2
        }
      ]
    },
    {
      "cell_type": "code",
      "source": [
        "A = np.linspace(1,10,10)\n",
        "print(A)"
      ],
      "metadata": {
        "colab": {
          "base_uri": "https://localhost:8080/"
        },
        "id": "O8I_AqERgNAo",
        "outputId": "97acaeae-6b84-4132-905c-9915e3db8530"
      },
      "execution_count": null,
      "outputs": [
        {
          "output_type": "stream",
          "name": "stdout",
          "text": [
            "[ 1.  2.  3.  4.  5.  6.  7.  8.  9. 10.]\n"
          ]
        }
      ]
    },
    {
      "cell_type": "markdown",
      "source": [
        "1. Generate the following matrix in numpy\n",
        "\n",
        "A =\n",
        "\n",
        "1 2 3\n",
        "\n",
        "4 5 6\n",
        "\n",
        "7 8 9\n",
        "\n",
        "and modify the entries to\n",
        "\n",
        "B =\n",
        "\n",
        "1 999 999\n",
        "\n",
        "4 999 999\n",
        "\n",
        "7  8   9"
      ],
      "metadata": {
        "id": "Qxic1jtKGQi8"
      }
    },
    {
      "cell_type": "code",
      "source": [
        "j = np.array([[1, 2, 3],[ 4, 5, 6],[7, 8, 9]])\n",
        "j[0][1] = 999\n",
        "j[0][2] = 999\n",
        "j[1][1] = 999\n",
        "j[1][2] = 999\n",
        "print(j)"
      ],
      "metadata": {
        "colab": {
          "base_uri": "https://localhost:8080/"
        },
        "id": "OvUS69_kgOev",
        "outputId": "f1a7e852-5071-4e7e-898d-5942f18ac6d1"
      },
      "execution_count": null,
      "outputs": [
        {
          "output_type": "stream",
          "name": "stdout",
          "text": [
            "[[  1 999 999]\n",
            " [  4 999 999]\n",
            " [  7   8   9]]\n"
          ]
        }
      ]
    },
    {
      "cell_type": "markdown",
      "source": [
        "2.Consider the system of equations\n",
        "\n",
        "3x + 2y = 5\n",
        "\n",
        "10x − y = 3\n",
        "\n",
        "Find the unique solution to these equations using matrix calculus in\n",
        "Numpy array."
      ],
      "metadata": {
        "id": "YuHSOEnwHGyl"
      }
    },
    {
      "cell_type": "code",
      "source": [
        "# Coefficient matrix A\n",
        "A = np.array([[3, 2],\n",
        "              [10, -1]])\n",
        "\n",
        "# Constant matrix B\n",
        "B = np.array([5, 3])\n",
        "\n",
        "# Inverse of matrix A\n",
        "A_inv = np.linalg.inv(A)\n",
        "\n",
        "# Multiplying A_inv with B to get the solution\n",
        "solution = np.dot(A_inv, B)\n",
        "\n",
        "print(\"The solution is:\", solution)"
      ],
      "metadata": {
        "colab": {
          "base_uri": "https://localhost:8080/"
        },
        "id": "6jVuHa2ZgQj7",
        "outputId": "2f5232bd-0a45-4ad2-fe82-635909b8459b"
      },
      "execution_count": null,
      "outputs": [
        {
          "output_type": "stream",
          "name": "stdout",
          "text": [
            "The solution is: [0.47826087 1.7826087 ]\n"
          ]
        }
      ]
    },
    {
      "cell_type": "markdown",
      "source": [
        "3. Generate a 5 by 5 random matrix and find the maximum, minimum,\n",
        "average (mean) & variance values along all axes."
      ],
      "metadata": {
        "id": "LyGtjluxgmHb"
      }
    },
    {
      "cell_type": "code",
      "source": [
        "import numpy as np\n",
        "A = np.random.randint(3,10,size=(5,5))\n",
        "print(\"Matrix A:\")\n",
        "print(A)\n",
        "\n",
        "max_value = A.max()\n",
        "print(\"Maximum Value:\", max_value)\n",
        "\n",
        "min_value = A.min()\n",
        "print(\"Minimum Value:\", min_value)\n",
        "\n",
        "mean_value = A.mean()\n",
        "print(\"Mean Value:\", mean_value)\n",
        "\n",
        "variance_value = A.var()\n",
        "print(\"Variance Value:\", variance_value)\n",
        "\n",
        "# b = np.random.randn(5)   # for normalization Gaussian\n",
        "# b"
      ],
      "metadata": {
        "colab": {
          "base_uri": "https://localhost:8080/"
        },
        "id": "gz_yZZNngXXh",
        "outputId": "34baebc9-b48e-416a-d5a2-5a045d3cc46a"
      },
      "execution_count": 6,
      "outputs": [
        {
          "output_type": "stream",
          "name": "stdout",
          "text": [
            "Matrix A:\n",
            "[[9 4 7 7 6]\n",
            " [9 9 8 9 4]\n",
            " [5 6 6 7 7]\n",
            " [7 5 7 8 6]\n",
            " [5 5 4 3 3]]\n",
            "Maximum Value: 9\n",
            "Minimum Value: 3\n",
            "Mean Value: 6.24\n",
            "Variance Value: 3.3024\n"
          ]
        }
      ]
    },
    {
      "cell_type": "markdown",
      "source": [
        "4. Generate a 5 by 5 random integer matrix whose values are between 2 & 100. Find the another matrix which produces boolean output as true\n",
        "where Values of random matrix are between 20 & 70."
      ],
      "metadata": {
        "id": "CB6sxRajLAzN"
      }
    },
    {
      "cell_type": "code",
      "source": [
        "random_matrix = np.random.randint(2, 101, size=(5, 5))\n",
        "boolean_matrix = (random_matrix >= 20) & (random_matrix <= 70)\n",
        "print(\"Random Matrix:\",)\n",
        "print(random_matrix)\n",
        "\n",
        "print(\"\\nBoolean Matrix:\",)\n",
        "print(boolean_matrix)"
      ],
      "metadata": {
        "colab": {
          "base_uri": "https://localhost:8080/"
        },
        "id": "OomCFms_LIzF",
        "outputId": "a9713a5b-c5ea-4b78-f9a5-015a3e0299d1"
      },
      "execution_count": 9,
      "outputs": [
        {
          "output_type": "stream",
          "name": "stdout",
          "text": [
            "Random Matrix:\n",
            "[[25 36 82 60 68]\n",
            " [38 61 62  6 90]\n",
            " [99 25 70 39 47]\n",
            " [ 9  3 18 49 71]\n",
            " [70 39 12 87 34]]\n",
            "\n",
            "Boolean Matrix:\n",
            "[[ True  True False  True  True]\n",
            " [ True  True  True False False]\n",
            " [False  True  True  True  True]\n",
            " [False False False  True False]\n",
            " [ True  True False False  True]]\n"
          ]
        }
      ]
    },
    {
      "cell_type": "markdown",
      "source": [
        "5. Find the mean square error between two array A = [1,2,3,4,5,6] & B =\n",
        "[7,8,9,10,12,17] using function in Numpy module."
      ],
      "metadata": {
        "id": "09RaJ59WgvMq"
      }
    },
    {
      "cell_type": "markdown",
      "source": [
        "Students based on quality(honesty,Courage,intelligence) converting into numbers :- **feature network matrix**,\n",
        "**gradient descent**, Importance of mse:- To calculate loss"
      ],
      "metadata": {
        "id": "6biQRmsDg4oE"
      }
    },
    {
      "cell_type": "code",
      "source": [
        "a = np.array([1,2,3,4,5,6])\n",
        "b = np.array([7,8,9,10,12,17])\n",
        "\n",
        "# Compute squared differences\n",
        "squared_differences = (a - b) ** 2\n",
        "\n",
        "# Compute mean of squared differences\n",
        "mse = np.mean(squared_differences)\n",
        "\n",
        "print(\"Mean Squared Error:\", mse)"
      ],
      "metadata": {
        "id": "YNMYFr0ig3Ng",
        "colab": {
          "base_uri": "https://localhost:8080/"
        },
        "outputId": "70aaab83-8d34-42e2-9243-81cea7cc973c"
      },
      "execution_count": 10,
      "outputs": [
        {
          "output_type": "stream",
          "name": "stdout",
          "text": [
            "Mean Squared Error: 52.333333333333336\n"
          ]
        }
      ]
    },
    {
      "cell_type": "markdown",
      "source": [
        "7. Find out the eigen value and eigen vectors of covariance of the data ma-\n",
        "trix, X=[[4,11],[8,4],[13,5],[7,14]] where each row is one observation while\n",
        "colums are attribures of that observation. (Hint: Question is related to\n",
        "PCA & use np.cov and np.linalg.eig functions of numpy package)"
      ],
      "metadata": {
        "id": "vD4znF7DPgtC"
      }
    },
    {
      "cell_type": "code",
      "source": [],
      "metadata": {
        "id": "UA0dM6eJPv73"
      },
      "execution_count": null,
      "outputs": []
    }
  ]
}