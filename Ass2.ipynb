{
  "nbformat": 4,
  "nbformat_minor": 0,
  "metadata": {
    "colab": {
      "provenance": [],
      "authorship_tag": "ABX9TyNTGqZVSA4gz6nTHrS5WXHI",
      "include_colab_link": true
    },
    "kernelspec": {
      "name": "python3",
      "display_name": "Python 3"
    },
    "language_info": {
      "name": "python"
    }
  },
  "cells": [
    {
      "cell_type": "markdown",
      "metadata": {
        "id": "view-in-github",
        "colab_type": "text"
      },
      "source": [
        "<a href=\"https://colab.research.google.com/github/Vanshika-goyal1/AI-Lab/blob/main/Ass2.ipynb\" target=\"_parent\"><img src=\"https://colab.research.google.com/assets/colab-badge.svg\" alt=\"Open In Colab\"/></a>"
      ]
    },
    {
      "cell_type": "markdown",
      "source": [
        "# **Assignment - 2**\n",
        "\n",
        "**Name - Vanshika Goyal**\n",
        "\n",
        "**Roll No - 102215194**"
      ],
      "metadata": {
        "id": "8DLnJiW9xhPj"
      }
    },
    {
      "cell_type": "markdown",
      "source": [
        "**Libraries**"
      ],
      "metadata": {
        "id": "6o8eo5kCf4A8"
      }
    },
    {
      "cell_type": "code",
      "execution_count": null,
      "metadata": {
        "id": "40Z51J4xfKkK"
      },
      "outputs": [],
      "source": [
        "import numpy as np"
      ]
    },
    {
      "cell_type": "code",
      "source": [
        "a = np.array([1, 2, 3])\n",
        "b = np.array([4, 5, 6])\n",
        "np.dot(a,b)"
      ],
      "metadata": {
        "colab": {
          "base_uri": "https://localhost:8080/"
        },
        "id": "ZIGNhlddgFb2",
        "outputId": "e760c360-9b14-43f1-aa41-7291471833eb"
      },
      "execution_count": null,
      "outputs": [
        {
          "output_type": "execute_result",
          "data": {
            "text/plain": [
              "32"
            ]
          },
          "metadata": {},
          "execution_count": 2
        }
      ]
    },
    {
      "cell_type": "code",
      "source": [
        "A = np.linspace(1,10,10)\n",
        "print(A)"
      ],
      "metadata": {
        "colab": {
          "base_uri": "https://localhost:8080/"
        },
        "id": "O8I_AqERgNAo",
        "outputId": "97acaeae-6b84-4132-905c-9915e3db8530"
      },
      "execution_count": null,
      "outputs": [
        {
          "output_type": "stream",
          "name": "stdout",
          "text": [
            "[ 1.  2.  3.  4.  5.  6.  7.  8.  9. 10.]\n"
          ]
        }
      ]
    },
    {
      "cell_type": "markdown",
      "source": [
        "1. Generate the following matrix in numpy\n",
        "\n",
        "A =\n",
        "\n",
        "1 2 3\n",
        "\n",
        "4 5 6\n",
        "\n",
        "7 8 9\n",
        "\n",
        "and modify the entries to\n",
        "\n",
        "B =\n",
        "\n",
        "1 999 999\n",
        "\n",
        "4 999 999\n",
        "\n",
        "7  8   9"
      ],
      "metadata": {
        "id": "Qxic1jtKGQi8"
      }
    },
    {
      "cell_type": "code",
      "source": [
        "j = np.array([[1, 2, 3],[ 4, 5, 6],[7, 8, 9]])\n",
        "j[0][1] = 999\n",
        "j[0][2] = 999\n",
        "j[1][1] = 999\n",
        "j[1][2] = 999\n",
        "print(j)"
      ],
      "metadata": {
        "colab": {
          "base_uri": "https://localhost:8080/"
        },
        "id": "OvUS69_kgOev",
        "outputId": "f1a7e852-5071-4e7e-898d-5942f18ac6d1"
      },
      "execution_count": null,
      "outputs": [
        {
          "output_type": "stream",
          "name": "stdout",
          "text": [
            "[[  1 999 999]\n",
            " [  4 999 999]\n",
            " [  7   8   9]]\n"
          ]
        }
      ]
    },
    {
      "cell_type": "markdown",
      "source": [
        "2.Consider the system of equations\n",
        "\n",
        "3x + 2y = 5\n",
        "\n",
        "10x − y = 3\n",
        "\n",
        "Find the unique solution to these equations using matrix calculus in\n",
        "Numpy array."
      ],
      "metadata": {
        "id": "YuHSOEnwHGyl"
      }
    },
    {
      "cell_type": "code",
      "source": [
        "# Coefficient matrix A\n",
        "A = np.array([[3, 2],\n",
        "              [10, -1]])\n",
        "\n",
        "# Constant matrix B\n",
        "B = np.array([5, 3])\n",
        "\n",
        "# Inverse of matrix A\n",
        "A_inv = np.linalg.inv(A)\n",
        "\n",
        "# Multiplying A_inv with B to get the solution\n",
        "solution = np.dot(A_inv, B)\n",
        "\n",
        "print(\"The solution is:\", solution)"
      ],
      "metadata": {
        "colab": {
          "base_uri": "https://localhost:8080/"
        },
        "id": "6jVuHa2ZgQj7",
        "outputId": "2f5232bd-0a45-4ad2-fe82-635909b8459b"
      },
      "execution_count": null,
      "outputs": [
        {
          "output_type": "stream",
          "name": "stdout",
          "text": [
            "The solution is: [0.47826087 1.7826087 ]\n"
          ]
        }
      ]
    },
    {
      "cell_type": "markdown",
      "source": [
        "3. Generate a 5 by 5 random matrix and find the maximum, minimum,\n",
        "average (mean) & variance values along all axes."
      ],
      "metadata": {
        "id": "LyGtjluxgmHb"
      }
    },
    {
      "cell_type": "code",
      "source": [
        "import numpy as np\n",
        "A = np.random.randint(3,10,size=(5,5))\n",
        "print(\"Matrix A:\")\n",
        "print(A)\n",
        "\n",
        "max_value = A.max()\n",
        "print(\"Maximum Value:\", max_value)\n",
        "\n",
        "min_value = A.min()\n",
        "print(\"Minimum Value:\", min_value)\n",
        "\n",
        "mean_value = A.mean()\n",
        "print(\"Mean Value:\", mean_value)\n",
        "\n",
        "variance_value = A.var()\n",
        "print(\"Variance Value:\", variance_value)\n",
        "\n",
        "# b = np.random.randn(5)   # for normalization Gaussian\n",
        "# b"
      ],
      "metadata": {
        "colab": {
          "base_uri": "https://localhost:8080/"
        },
        "id": "gz_yZZNngXXh",
        "outputId": "34baebc9-b48e-416a-d5a2-5a045d3cc46a"
      },
      "execution_count": null,
      "outputs": [
        {
          "output_type": "stream",
          "name": "stdout",
          "text": [
            "Matrix A:\n",
            "[[9 4 7 7 6]\n",
            " [9 9 8 9 4]\n",
            " [5 6 6 7 7]\n",
            " [7 5 7 8 6]\n",
            " [5 5 4 3 3]]\n",
            "Maximum Value: 9\n",
            "Minimum Value: 3\n",
            "Mean Value: 6.24\n",
            "Variance Value: 3.3024\n"
          ]
        }
      ]
    },
    {
      "cell_type": "markdown",
      "source": [
        "4. Generate a 5 by 5 random integer matrix whose values are between 2 & 100. Find the another matrix which produces boolean output as true\n",
        "where Values of random matrix are between 20 & 70."
      ],
      "metadata": {
        "id": "CB6sxRajLAzN"
      }
    },
    {
      "cell_type": "code",
      "source": [
        "random_matrix = np.random.randint(2, 101, size=(5, 5))\n",
        "boolean_matrix = (random_matrix >= 20) & (random_matrix <= 70)\n",
        "print(\"Random Matrix:\",)\n",
        "print(random_matrix)\n",
        "\n",
        "print(\"\\nBoolean Matrix:\",)\n",
        "print(boolean_matrix)"
      ],
      "metadata": {
        "colab": {
          "base_uri": "https://localhost:8080/"
        },
        "id": "OomCFms_LIzF",
        "outputId": "a9713a5b-c5ea-4b78-f9a5-015a3e0299d1"
      },
      "execution_count": null,
      "outputs": [
        {
          "output_type": "stream",
          "name": "stdout",
          "text": [
            "Random Matrix:\n",
            "[[25 36 82 60 68]\n",
            " [38 61 62  6 90]\n",
            " [99 25 70 39 47]\n",
            " [ 9  3 18 49 71]\n",
            " [70 39 12 87 34]]\n",
            "\n",
            "Boolean Matrix:\n",
            "[[ True  True False  True  True]\n",
            " [ True  True  True False False]\n",
            " [False  True  True  True  True]\n",
            " [False False False  True False]\n",
            " [ True  True False False  True]]\n"
          ]
        }
      ]
    },
    {
      "cell_type": "markdown",
      "source": [
        "5. Find the mean square error between two array A = [1,2,3,4,5,6] & B =\n",
        "[7,8,9,10,12,17] using function in Numpy module."
      ],
      "metadata": {
        "id": "09RaJ59WgvMq"
      }
    },
    {
      "cell_type": "markdown",
      "source": [
        "Students based on quality(honesty,Courage,intelligence) converting into numbers :- **feature network matrix**,\n",
        "**gradient descent**, Importance of mse:- To calculate loss"
      ],
      "metadata": {
        "id": "6biQRmsDg4oE"
      }
    },
    {
      "cell_type": "code",
      "source": [
        "a = np.array([1,2,3,4,5,6])\n",
        "b = np.array([7,8,9,10,12,17])\n",
        "\n",
        "# Compute squared differences\n",
        "squared_differences = (a - b) ** 2\n",
        "\n",
        "# Compute mean of squared differences\n",
        "mse = np.mean(squared_differences)\n",
        "\n",
        "print(\"Mean Squared Error:\", mse)"
      ],
      "metadata": {
        "id": "YNMYFr0ig3Ng",
        "colab": {
          "base_uri": "https://localhost:8080/"
        },
        "outputId": "70aaab83-8d34-42e2-9243-81cea7cc973c"
      },
      "execution_count": null,
      "outputs": [
        {
          "output_type": "stream",
          "name": "stdout",
          "text": [
            "Mean Squared Error: 52.333333333333336\n"
          ]
        }
      ]
    },
    {
      "cell_type": "markdown",
      "source": [
        "7. Find out the eigen value and eigen vectors of covariance of the data ma-\n",
        "trix, X=[[4,11],[8,4],[13,5],[7,14]] where each row is one observation while\n",
        "colums are attribures of that observation. (Hint: Question is related to\n",
        "PCA & use np.cov and np.linalg.eig functions of numpy package)"
      ],
      "metadata": {
        "id": "vD4znF7DPgtC"
      }
    },
    {
      "cell_type": "markdown",
      "source": [
        "8. Create a pandas data structure (series) X using a dictionary D = ”Rohan”: 176,”John”:\n",
        "175,”Harvinder”: 180,”Hasan”: 174 . Then pass other list [”Tinku”,”John”,”Ramesh”,”Hasan”]\n",
        "as index into series X . Comment on the resultant output & locate the index of\n",
        "NAN values."
      ],
      "metadata": {
        "id": "8h5Y-_uRTsva"
      }
    },
    {
      "cell_type": "code",
      "source": [
        "import pandas as pd\n",
        "\n",
        "# Step 1: Create the dictionary D\n",
        "D = {\"Rohan\": 176, \"John\": 175, \"Harvinder\": 180, \"Hasan\": 174}\n",
        "\n",
        "# Create a pandas Series X using dictionary D\n",
        "X = pd.Series(D)\n",
        "\n",
        "print(\"pandas Series X :- \")\n",
        "print(X)\n",
        "\n",
        "# Step 2: Define another list for indices\n",
        "new_index = [\"Tinku\", \"John\", \"Ramesh\", \"Hasan\"]\n",
        "\n",
        "# Pass the list as index into series X (reindexing)\n",
        "X = X.reindex(new_index)\n",
        "\n",
        "print(\"\\nAfter reindexing :- \")\n",
        "print(X)\n",
        "\n",
        "X.isna()\n",
        "\n",
        "print(\"\\nRows with NaN values :\" \"\\n\",  X[X.isna()] )\n",
        "print(\"\\nIndex labels of the Rows with NaN values :\" \"\\n\",  X[X.isna()].index)\n",
        "print(\"\\nList:\" \"\\n\",  X[X.isna()].index.tolist())   # this single line\n",
        "\n",
        "# Step 3: Find the indices of NaN values\n",
        "nan_indices = X[X.isna()].index.tolist()\n",
        "\n",
        "# Output the Series and the indices of NaN values\n",
        "# print(\"Reindexed Series X:\\n\", X)\n",
        "print(\"\\nIndices with NaN values:\", nan_indices)\n"
      ],
      "metadata": {
        "colab": {
          "base_uri": "https://localhost:8080/"
        },
        "id": "Rss4ZJC0b5Zt",
        "outputId": "0aea2b16-24e3-4db9-ebf8-d79bc838bc2e"
      },
      "execution_count": 17,
      "outputs": [
        {
          "output_type": "stream",
          "name": "stdout",
          "text": [
            "pandas Series X :- \n",
            "Rohan        176\n",
            "John         175\n",
            "Harvinder    180\n",
            "Hasan        174\n",
            "dtype: int64\n",
            "\n",
            "After reindexing :- \n",
            "Tinku       NaN\n",
            "John      175.0\n",
            "Ramesh      NaN\n",
            "Hasan     174.0\n",
            "dtype: float64\n",
            "\n",
            "Rows with NaN values :\n",
            " Tinku    NaN\n",
            "Ramesh   NaN\n",
            "dtype: float64\n",
            "\n",
            "Index labels of the Rows with NaN values :\n",
            " Index(['Tinku', 'Ramesh'], dtype='object')\n",
            "\n",
            "List:\n",
            " ['Tinku', 'Ramesh']\n",
            "\n",
            "Indices with NaN values: ['Tinku', 'Ramesh']\n"
          ]
        }
      ]
    },
    {
      "cell_type": "code",
      "source": [
        "D = {'Rohan': 176, 'John': 175, 'Harvinder': 180, 'Hasan': 174}\n",
        "X = pd.Series(D)\n",
        "X"
      ],
      "metadata": {
        "colab": {
          "base_uri": "https://localhost:8080/",
          "height": 209
        },
        "id": "qeS-ruH6TvMQ",
        "outputId": "19323885-0a0b-48d9-d255-cce6b22f731b"
      },
      "execution_count": 38,
      "outputs": [
        {
          "output_type": "execute_result",
          "data": {
            "text/plain": [
              "Rohan        176\n",
              "John         175\n",
              "Harvinder    180\n",
              "Hasan        174\n",
              "dtype: int64"
            ],
            "text/html": [
              "<div>\n",
              "<style scoped>\n",
              "    .dataframe tbody tr th:only-of-type {\n",
              "        vertical-align: middle;\n",
              "    }\n",
              "\n",
              "    .dataframe tbody tr th {\n",
              "        vertical-align: top;\n",
              "    }\n",
              "\n",
              "    .dataframe thead th {\n",
              "        text-align: right;\n",
              "    }\n",
              "</style>\n",
              "<table border=\"1\" class=\"dataframe\">\n",
              "  <thead>\n",
              "    <tr style=\"text-align: right;\">\n",
              "      <th></th>\n",
              "      <th>0</th>\n",
              "    </tr>\n",
              "  </thead>\n",
              "  <tbody>\n",
              "    <tr>\n",
              "      <th>Rohan</th>\n",
              "      <td>176</td>\n",
              "    </tr>\n",
              "    <tr>\n",
              "      <th>John</th>\n",
              "      <td>175</td>\n",
              "    </tr>\n",
              "    <tr>\n",
              "      <th>Harvinder</th>\n",
              "      <td>180</td>\n",
              "    </tr>\n",
              "    <tr>\n",
              "      <th>Hasan</th>\n",
              "      <td>174</td>\n",
              "    </tr>\n",
              "  </tbody>\n",
              "</table>\n",
              "</div><br><label><b>dtype:</b> int64</label>"
            ]
          },
          "metadata": {},
          "execution_count": 38
        }
      ]
    },
    {
      "cell_type": "markdown",
      "source": [
        "9. Draw four line plots using the subplot() function.\n",
        "\n",
        "Use the following data:\n",
        "\n",
        "For line 1: x = [0, 1, 2, 3, 4, 5] and y = [0, 100, 200, 300, 400, 500]\n",
        "\n",
        "For line 2: x = [0, 1, 2, 3, 4, 5] and y = [50, 20, 40, 20, 60, 70]\n",
        "\n",
        "For line 3: x = [0, 1, 2, 3, 4, 5] and y = [10, 20, 30, 40, 50, 60]\n",
        "\n",
        "For line 4: x = [0, 1, 2, 3, 4, 5] and y = [200, 350, 250, 550, 450, 150]"
      ],
      "metadata": {
        "id": "kNEmIqJDbJWk"
      }
    },
    {
      "cell_type": "code",
      "source": [
        "import matplotlib.pyplot as plt\n",
        "\n",
        "# Data for the plots\n",
        "x = [0, 1, 2, 3, 4, 5]\n",
        "\n",
        "y1 = [0, 100, 200, 300, 400, 500]\n",
        "y2 = [50, 20, 40, 20, 60, 70]\n",
        "y3 = [10, 20, 30, 40, 50, 60]\n",
        "y4 = [200, 350, 250, 550, 450, 150]\n",
        "\n",
        "# Plot 1\n",
        "plt.subplot(2, 2, 1)\n",
        "plt.plot(x, y1, color='blue')\n",
        "plt.title('Line 1: y = [0, 100, 200, 300, 400, 500]')\n",
        "plt.xlabel('x')\n",
        "plt.ylabel('y')\n",
        "\n",
        "# Plot 2\n",
        "plt.subplot(2, 2, 2)\n",
        "plt.plot(x, y2, color='green')\n",
        "plt.title('Line 2: y = [50, 20, 40, 20, 60, 70]')\n",
        "plt.xlabel('x')\n",
        "plt.ylabel('y')\n",
        "\n",
        "# Plot 3\n",
        "plt.subplot(2, 2, 3)\n",
        "plt.plot(x, y3, color='red')\n",
        "plt.title('Line 3: y = [10, 20, 30, 40, 50, 60]')\n",
        "plt.xlabel('x')\n",
        "plt.ylabel('y')\n",
        "\n",
        "# Plot 4\n",
        "plt.subplot(2, 2, 4)\n",
        "plt.plot(x, y4, color='purple')\n",
        "plt.title('Line 4: y = [200, 350, 250, 550, 450, 150]')\n",
        "plt.xlabel('x')\n",
        "plt.ylabel('y')\n",
        "\n",
        "# Adjust layout and display the plots\n",
        "plt.tight_layout()\n",
        "plt.show()\n"
      ],
      "metadata": {
        "colab": {
          "base_uri": "https://localhost:8080/",
          "height": 486
        },
        "id": "I1-c5NzfbocV",
        "outputId": "0ca9ee97-9de0-4ee1-f954-c7aa19db45d1"
      },
      "execution_count": 18,
      "outputs": [
        {
          "output_type": "display_data",
          "data": {
            "text/plain": [
              "<Figure size 640x480 with 4 Axes>"
            ],
            "image/png": "[encoded data removed]"
          },
          "metadata": {}
        }
      ]
    },
    {
      "cell_type": "markdown",
      "source": [
        "10. Using the following data plot a bar plot and a horizontal bar plot.\n",
        "\n",
        "company = [”Apple”, ”Microsoft”, ”Google”, ”AMD”]\n",
        "\n",
        "profit = [3000, 8000, 1000, 10000]"
      ],
      "metadata": {
        "id": "UNxHU1JMYloL"
      }
    },
    {
      "cell_type": "code",
      "source": [
        "import matplotlib.pyplot as plt\n",
        "\n",
        "# Data for plotting\n",
        "company = [\"Apple\", \"Microsoft\", \"Google\", \"AMD\"]\n",
        "profit = [3000, 8000, 1000, 10000]\n",
        "\n",
        "# Plotting a vertical bar plot\n",
        "# plt.figure(figsize=(10, 5))\n",
        "plt.bar(company, profit, color='blue')\n",
        "plt.xlabel('Company')\n",
        "plt.ylabel('Profit (in millions)')\n",
        "plt.title('Company Profits')\n",
        "plt.show()\n",
        "\n",
        "# Plotting a horizontal bar plot\n",
        "# plt.figure(figsize=(10, 5))\n",
        "plt.barh(company, profit, color='green')\n",
        "plt.xlabel('Profit (in millions)')\n",
        "plt.ylabel('Company')\n",
        "plt.title('Company Profits')\n",
        "plt.show()\n"
      ],
      "metadata": {
        "colab": {
          "base_uri": "https://localhost:8080/",
          "height": 927
        },
        "id": "qY61ufP6Yqf8",
        "outputId": "67bac13d-7c15-4eae-bf57-58e387217f3f"
      },
      "execution_count": 40,
      "outputs": [
        {
          "output_type": "display_data",
          "data": {
            "text/plain": [
              "<Figure size 640x480 with 1 Axes>"
            ],
            "image/png": "[encoded data removed]"
          },
          "metadata": {}
        },
        {
          "output_type": "display_data",
          "data": {
            "text/plain": [
              "<Figure size 640x480 with 1 Axes>"
            ],
            "image/png": "[encoded data removed]"
          },
          "metadata": {}
        }
      ]
    },
    {
      "cell_type": "markdown",
      "source": [
        "11. Using the following data to plot a box plot.\n",
        "import numpy as np\n",
        "\n",
        "box1 = np.random.normal(100, 10, 200)\n",
        "\n",
        "box2 = np.random.normal(90, 20, 200)"
      ],
      "metadata": {
        "id": "TCQvsLlL6m5y"
      }
    },
    {
      "cell_type": "code",
      "source": [
        "import matplotlib.pyplot as plt\n",
        "import numpy as np\n",
        "\n",
        "# Data for the box plot\n",
        "box1 = np.random.normal(100, 10, 200)\n",
        "box2 = np.random.normal(90, 20, 200)\n",
        "\n",
        "# Plot the box plot\n",
        "plt.boxplot([box1, box2], labels=['Box 1', 'Box 2'])\n",
        "\n",
        "plt.xlabel('Box')\n",
        "plt.ylabel('Value')\n",
        "plt.title('Box Plot of Box1 and Box2')\n",
        "plt.show()"
      ],
      "metadata": {
        "colab": {
          "base_uri": "https://localhost:8080/",
          "height": 472
        },
        "id": "weWls_Hh6vGD",
        "outputId": "5f32ba11-8716-415b-a6e0-c8833ad50f6d"
      },
      "execution_count": 19,
      "outputs": [
        {
          "output_type": "display_data",
          "data": {
            "text/plain": [
              "<Figure size 640x480 with 1 Axes>"
            ],
            "image/png": "[encoded data removed]"
          },
          "metadata": {}
        }
      ]
    },
    {
      "cell_type": "code",
      "source": [
        "import pandas as pd\n",
        "import numpy as np\n",
        "# Series = 1 D data vector form\n",
        "# DataFrame = 2 D,3D or nD data- [[1,2,3,4]]\n",
        "s = pd.Series([1,2,3,4])\n",
        "s = pd.Series(np.arange(10))\n",
        "# s.to_numpy()\n",
        "s.to_dict()\n",
        "# print(s)\n",
        "# print(\"data type\")\n",
        "# type(s)"
      ],
      "metadata": {
        "id": "UA0dM6eJPv73",
        "colab": {
          "base_uri": "https://localhost:8080/"
        },
        "outputId": "ccdbd43b-2fbe-4d21-a486-800ea4168e8b"
      },
      "execution_count": 7,
      "outputs": [
        {
          "output_type": "execute_result",
          "data": {
            "text/plain": [
              "{0: 0, 1: 1, 2: 2, 3: 3, 4: 4, 5: 5, 6: 6, 7: 7, 8: 8, 9: 9}"
            ]
          },
          "metadata": {},
          "execution_count": 7
        }
      ]
    },
    {
      "cell_type": "code",
      "source": [
        "df = pd.DataFrame([[1,2,3,4],[5,6,7,8]],index=['a','b'],columns=['R','S','T','V'])\n",
        "df\n",
        "df.head(1)\n",
        "df.columns\n",
        "df.values      #data frame to numpy\n",
        "df.describe()\n",
        "# type(df)\n",
        "# df.size\n",
        "# print(df.shape)\n",
        "# dir(df)"
      ],
      "metadata": {
        "colab": {
          "base_uri": "https://localhost:8080/",
          "height": 300
        },
        "id": "vN-4DCopK0Ih",
        "outputId": "e0fe25ed-d2ff-442e-c2a3-3dc980b1cd19"
      },
      "execution_count": 20,
      "outputs": [
        {
          "output_type": "execute_result",
          "data": {
            "text/plain": [
              "              R         S         T         V\n",
              "count  2.000000  2.000000  2.000000  2.000000\n",
              "mean   3.000000  4.000000  5.000000  6.000000\n",
              "std    2.828427  2.828427  2.828427  2.828427\n",
              "min    1.000000  2.000000  3.000000  4.000000\n",
              "25%    2.000000  3.000000  4.000000  5.000000\n",
              "50%    3.000000  4.000000  5.000000  6.000000\n",
              "75%    4.000000  5.000000  6.000000  7.000000\n",
              "max    5.000000  6.000000  7.000000  8.000000"
            ],
            "text/html": [
              "\n",
              "  <div id=\"df-95a1b5af-1988-40e9-923d-bf43989a3513\" class=\"colab-df-container\">\n",
              "    <div>\n",
              "<style scoped>\n",
              "    .dataframe tbody tr th:only-of-type {\n",
              "        vertical-align: middle;\n",
              "    }\n",
              "\n",
              "    .dataframe tbody tr th {\n",
              "        vertical-align: top;\n",
              "    }\n",
              "\n",
              "    .dataframe thead th {\n",
              "        text-align: right;\n",
              "    }\n",
              "</style>\n",
              "<table border=\"1\" class=\"dataframe\">\n",
              "  <thead>\n",
              "    <tr style=\"text-align: right;\">\n",
              "      <th></th>\n",
              "      <th>R</th>\n",
              "      <th>S</th>\n",
              "      <th>T</th>\n",
              "      <th>V</th>\n",
              "    </tr>\n",
              "  </thead>\n",
              "  <tbody>\n",
              "    <tr>\n",
              "      <th>count</th>\n",
              "      <td>2.000000</td>\n",
              "      <td>2.000000</td>\n",
              "      <td>2.000000</td>\n",
              "      <td>2.000000</td>\n",
              "    </tr>\n",
              "    <tr>\n",
              "      <th>mean</th>\n",
              "      <td>3.000000</td>\n",
              "      <td>4.000000</td>\n",
              "      <td>5.000000</td>\n",
              "      <td>6.000000</td>\n",
              "    </tr>\n",
              "    <tr>\n",
              "      <th>std</th>\n",
              "      <td>2.828427</td>\n",
              "      <td>2.828427</td>\n",
              "      <td>2.828427</td>\n",
              "      <td>2.828427</td>\n",
              "    </tr>\n",
              "    <tr>\n",
              "      <th>min</th>\n",
              "      <td>1.000000</td>\n",
              "      <td>2.000000</td>\n",
              "      <td>3.000000</td>\n",
              "      <td>4.000000</td>\n",
              "    </tr>\n",
              "    <tr>\n",
              "      <th>25%</th>\n",
              "      <td>2.000000</td>\n",
              "      <td>3.000000</td>\n",
              "      <td>4.000000</td>\n",
              "      <td>5.000000</td>\n",
              "    </tr>\n",
              "    <tr>\n",
              "      <th>50%</th>\n",
              "      <td>3.000000</td>\n",
              "      <td>4.000000</td>\n",
              "      <td>5.000000</td>\n",
              "      <td>6.000000</td>\n",
              "    </tr>\n",
              "    <tr>\n",
              "      <th>75%</th>\n",
              "      <td>4.000000</td>\n",
              "      <td>5.000000</td>\n",
              "      <td>6.000000</td>\n",
              "      <td>7.000000</td>\n",
              "    </tr>\n",
              "    <tr>\n",
              "      <th>max</th>\n",
              "      <td>5.000000</td>\n",
              "      <td>6.000000</td>\n",
              "      <td>7.000000</td>\n",
              "      <td>8.000000</td>\n",
              "    </tr>\n",
              "  </tbody>\n",
              "</table>\n",
              "</div>\n",
              "    <div class=\"colab-df-buttons\">\n",
              "\n",
              "  <div class=\"colab-df-container\">\n",
              "    <button class=\"colab-df-convert\" onclick=\"convertToInteractive('df-95a1b5af-1988-40e9-923d-bf43989a3513')\"\n",
              "            title=\"Convert this dataframe to an interactive table.\"\n",
              "            style=\"display:none;\">\n",
              "\n",
              "  <svg xmlns=\"http://www.w3.org/2000/svg\" height=\"24px\" viewBox=\"0 -960 960 960\">\n",
              "    <path d=\"M120-120v-720h720v720H120Zm60-500h600v-160H180v160Zm220 220h160v-160H400v160Zm0 220h160v-160H400v160ZM180-400h160v-160H180v160Zm440 0h160v-160H620v160ZM180-180h160v-160H180v160Zm440 0h160v-160H620v160Z\"/>\n",
              "  </svg>\n",
              "    </button>\n",
              "\n",
              "  <style>\n",
              "    .colab-df-container {\n",
              "      display:flex;\n",
              "      gap: 12px;\n",
              "    }\n",
              "\n",
              "    .colab-df-convert {\n",
              "      background-color: #E8F0FE;\n",
              "      border: none;\n",
              "      border-radius: 50%;\n",
              "      cursor: pointer;\n",
              "      display: none;\n",
              "      fill: #1967D2;\n",
              "      height: 32px;\n",
              "      padding: 0 0 0 0;\n",
              "      width: 32px;\n",
              "    }\n",
              "\n",
              "    .colab-df-convert:hover {\n",
              "      background-color: #E2EBFA;\n",
              "      box-shadow: 0px 1px 2px rgba(60, 64, 67, 0.3), 0px 1px 3px 1px rgba(60, 64, 67, 0.15);\n",
              "      fill: #174EA6;\n",
              "    }\n",
              "\n",
              "    .colab-df-buttons div {\n",
              "      margin-bottom: 4px;\n",
              "    }\n",
              "\n",
              "    [theme=dark] .colab-df-convert {\n",
              "      background-color: #3B4455;\n",
              "      fill: #D2E3FC;\n",
              "    }\n",
              "\n",
              "    [theme=dark] .colab-df-convert:hover {\n",
              "      background-color: #434B5C;\n",
              "      box-shadow: 0px 1px 3px 1px rgba(0, 0, 0, 0.15);\n",
              "      filter: drop-shadow(0px 1px 2px rgba(0, 0, 0, 0.3));\n",
              "      fill: #FFFFFF;\n",
              "    }\n",
              "  </style>\n",
              "\n",
              "    <script>\n",
              "      const buttonEl =\n",
              "        document.querySelector('#df-95a1b5af-1988-40e9-923d-bf43989a3513 button.colab-df-convert');\n",
              "      buttonEl.style.display =\n",
              "        google.colab.kernel.accessAllowed ? 'block' : 'none';\n",
              "\n",
              "      async function convertToInteractive(key) {\n",
              "        const element = document.querySelector('#df-95a1b5af-1988-40e9-923d-bf43989a3513');\n",
              "        const dataTable =\n",
              "          await google.colab.kernel.invokeFunction('convertToInteractive',\n",
              "                                                    [key], {});\n",
              "        if (!dataTable) return;\n",
              "\n",
              "        const docLinkHtml = 'Like what you see? Visit the ' +\n",
              "          '<a target=\"_blank\" href=https://colab.research.google.com/notebooks/data_table.ipynb>data table notebook</a>'\n",
              "          + ' to learn more about interactive tables.';\n",
              "        element.innerHTML = '';\n",
              "        dataTable['output_type'] = 'display_data';\n",
              "        await google.colab.output.renderOutput(dataTable, element);\n",
              "        const docLink = document.createElement('div');\n",
              "        docLink.innerHTML = docLinkHtml;\n",
              "        element.appendChild(docLink);\n",
              "      }\n",
              "    </script>\n",
              "  </div>\n",
              "\n",
              "\n",
              "<div id=\"df-840169f2-002d-4937-9b13-f7f1cdf4af50\">\n",
              "  <button class=\"colab-df-quickchart\" onclick=\"quickchart('df-840169f2-002d-4937-9b13-f7f1cdf4af50')\"\n",
              "            title=\"Suggest charts\"\n",
              "            style=\"display:none;\">\n",
              "\n",
              "<svg xmlns=\"http://www.w3.org/2000/svg\" height=\"24px\"viewBox=\"0 0 24 24\"\n",
              "     width=\"24px\">\n",
              "    <g>\n",
              "        <path d=\"M19 3H5c-1.1 0-2 .9-2 2v14c0 1.1.9 2 2 2h14c1.1 0 2-.9 2-2V5c0-1.1-.9-2-2-2zM9 17H7v-7h2v7zm4 0h-2V7h2v10zm4 0h-2v-4h2v4z\"/>\n",
              "    </g>\n",
              "</svg>\n",
              "  </button>\n",
              "\n",
              "<style>\n",
              "  .colab-df-quickchart {\n",
              "      --bg-color: #E8F0FE;\n",
              "      --fill-color: #1967D2;\n",
              "      --hover-bg-color: #E2EBFA;\n",
              "      --hover-fill-color: #174EA6;\n",
              "      --disabled-fill-color: #AAA;\n",
              "      --disabled-bg-color: #DDD;\n",
              "  }\n",
              "\n",
              "  [theme=dark] .colab-df-quickchart {\n",
              "      --bg-color: #3B4455;\n",
              "      --fill-color: #D2E3FC;\n",
              "      --hover-bg-color: #434B5C;\n",
              "      --hover-fill-color: #FFFFFF;\n",
              "      --disabled-bg-color: #3B4455;\n",
              "      --disabled-fill-color: #666;\n",
              "  }\n",
              "\n",
              "  .colab-df-quickchart {\n",
              "    background-color: var(--bg-color);\n",
              "    border: none;\n",
              "    border-radius: 50%;\n",
              "    cursor: pointer;\n",
              "    display: none;\n",
              "    fill: var(--fill-color);\n",
              "    height: 32px;\n",
              "    padding: 0;\n",
              "    width: 32px;\n",
              "  }\n",
              "\n",
              "  .colab-df-quickchart:hover {\n",
              "    background-color: var(--hover-bg-color);\n",
              "    box-shadow: 0 1px 2px rgba(60, 64, 67, 0.3), 0 1px 3px 1px rgba(60, 64, 67, 0.15);\n",
              "    fill: var(--button-hover-fill-color);\n",
              "  }\n",
              "\n",
              "  .colab-df-quickchart-complete:disabled,\n",
              "  .colab-df-quickchart-complete:disabled:hover {\n",
              "    background-color: var(--disabled-bg-color);\n",
              "    fill: var(--disabled-fill-color);\n",
              "    box-shadow: none;\n",
              "  }\n",
              "\n",
              "  .colab-df-spinner {\n",
              "    border: 2px solid var(--fill-color);\n",
              "    border-color: transparent;\n",
              "    border-bottom-color: var(--fill-color);\n",
              "    animation:\n",
              "      spin 1s steps(1) infinite;\n",
              "  }\n",
              "\n",
              "  @keyframes spin {\n",
              "    0% {\n",
              "      border-color: transparent;\n",
              "      border-bottom-color: var(--fill-color);\n",
              "      border-left-color: var(--fill-color);\n",
              "    }\n",
              "    20% {\n",
              "      border-color: transparent;\n",
              "      border-left-color: var(--fill-color);\n",
              "      border-top-color: var(--fill-color);\n",
              "    }\n",
              "    30% {\n",
              "      border-color: transparent;\n",
              "      border-left-color: var(--fill-color);\n",
              "      border-top-color: var(--fill-color);\n",
              "      border-right-color: var(--fill-color);\n",
              "    }\n",
              "    40% {\n",
              "      border-color: transparent;\n",
              "      border-right-color: var(--fill-color);\n",
              "      border-top-color: var(--fill-color);\n",
              "    }\n",
              "    60% {\n",
              "      border-color: transparent;\n",
              "      border-right-color: var(--fill-color);\n",
              "    }\n",
              "    80% {\n",
              "      border-color: transparent;\n",
              "      border-right-color: var(--fill-color);\n",
              "      border-bottom-color: var(--fill-color);\n",
              "    }\n",
              "    90% {\n",
              "      border-color: transparent;\n",
              "      border-bottom-color: var(--fill-color);\n",
              "    }\n",
              "  }\n",
              "</style>\n",
              "\n",
              "  <script>\n",
              "    async function quickchart(key) {\n",
              "      const quickchartButtonEl =\n",
              "        document.querySelector('#' + key + ' button');\n",
              "      quickchartButtonEl.disabled = true;  // To prevent multiple clicks.\n",
              "      quickchartButtonEl.classList.add('colab-df-spinner');\n",
              "      try {\n",
              "        const charts = await google.colab.kernel.invokeFunction(\n",
              "            'suggestCharts', [key], {});\n",
              "      } catch (error) {\n",
              "        console.error('Error during call to suggestCharts:', error);\n",
              "      }\n",
              "      quickchartButtonEl.classList.remove('colab-df-spinner');\n",
              "      quickchartButtonEl.classList.add('colab-df-quickchart-complete');\n",
              "    }\n",
              "    (() => {\n",
              "      let quickchartButtonEl =\n",
              "        document.querySelector('#df-840169f2-002d-4937-9b13-f7f1cdf4af50 button');\n",
              "      quickchartButtonEl.style.display =\n",
              "        google.colab.kernel.accessAllowed ? 'block' : 'none';\n",
              "    })();\n",
              "  </script>\n",
              "</div>\n",
              "\n",
              "    </div>\n",
              "  </div>\n"
            ],
            "application/vnd.google.colaboratory.intrinsic+json": {
              "type": "dataframe",
              "summary": "{\n  \"name\": \"# dir(df)\",\n  \"rows\": 8,\n  \"fields\": [\n    {\n      \"column\": \"R\",\n      \"properties\": {\n        \"dtype\": \"number\",\n        \"std\": 1.2454410794269433,\n        \"min\": 1.0,\n        \"max\": 5.0,\n        \"num_unique_values\": 6,\n        \"samples\": [\n          2.0,\n          3.0,\n          5.0\n        ],\n        \"semantic_type\": \"\",\n        \"description\": \"\"\n      }\n    },\n    {\n      \"column\": \"S\",\n      \"properties\": {\n        \"dtype\": \"number\",\n        \"std\": 1.4200213121715444,\n        \"min\": 2.0,\n        \"max\": 6.0,\n        \"num_unique_values\": 6,\n        \"samples\": [\n          2.0,\n          4.0,\n          6.0\n        ],\n        \"semantic_type\": \"\",\n        \"description\": \"\"\n      }\n    },\n    {\n      \"column\": \"T\",\n      \"properties\": {\n        \"dtype\": \"number\",\n        \"std\": 1.7059803633952144,\n        \"min\": 2.0,\n        \"max\": 7.0,\n        \"num_unique_values\": 7,\n        \"samples\": [\n          2.0,\n          5.0,\n          6.0\n        ],\n        \"semantic_type\": \"\",\n        \"description\": \"\"\n      }\n    },\n    {\n      \"column\": \"V\",\n      \"properties\": {\n        \"dtype\": \"number\",\n        \"std\": 2.0573888553528645,\n        \"min\": 2.0,\n        \"max\": 8.0,\n        \"num_unique_values\": 7,\n        \"samples\": [\n          2.0,\n          6.0,\n          7.0\n        ],\n        \"semantic_type\": \"\",\n        \"description\": \"\"\n      }\n    }\n  ]\n}"
            }
          },
          "metadata": {},
          "execution_count": 20
        }
      ]
    },
    {
      "cell_type": "code",
      "source": [
        "df=pd.read_csv('/content/sample_data/california_housing_train.csv')\n",
        "type(df)\n",
        "df.columns\n",
        "df.head()\n",
        "# df.describe()\n",
        "X=df['population']\n",
        "Y=df['median_income']\n",
        "import matplotlib.pyplot as plt\n",
        "plt.scatter(X,Y,color='red')\n",
        "plt.xlabel('population')\n",
        "plt.ylabel('median_income')\n",
        "plt.grid()\n",
        "plt.show()"
      ],
      "metadata": {
        "colab": {
          "base_uri": "https://localhost:8080/",
          "height": 449
        },
        "id": "2wmvJZjMMmRb",
        "outputId": "c471a885-a4a7-43d3-bbff-a3a2e6be5db9"
      },
      "execution_count": 32,
      "outputs": [
        {
          "output_type": "display_data",
          "data": {
            "text/plain": [
              "<Figure size 640x480 with 1 Axes>"
            ],
            "image/png": "[encoded data removed]"
          },
          "metadata": {}
        }
      ]
    },
    {
      "cell_type": "markdown",
      "source": [
        "Nan and None\n",
        "\n",
        "df.isna\n",
        "\n",
        "df.fillna(4)   # fill by 4\n",
        "\n",
        "**Concept of Interpolation**\n",
        "\n",
        "df.dropna()"
      ],
      "metadata": {
        "id": "9P0o4tA5QxRe"
      }
    },
    {
      "cell_type": "code",
      "source": [
        "from sklearn.datasets import load_iris\n",
        "X, y = load_iris(return_X_y=True)\n",
        "type(X)\n",
        "type(y)\n",
        "X.shape\n",
        "X.mean(X,axis=0)"
      ],
      "metadata": {
        "colab": {
          "base_uri": "https://localhost:8080/",
          "height": 176
        },
        "id": "Tt40zsLyOvWy",
        "outputId": "163b4ae7-7f98-4403-a3d2-ccbbf89c79cf"
      },
      "execution_count": 36,
      "outputs": [
        {
          "output_type": "error",
          "ename": "TypeError",
          "evalue": "_mean() got multiple values for argument 'axis'",
          "traceback": [
            "\u001b[0;31m---------------------------------------------------------------------------\u001b[0m",
            "\u001b[0;31mTypeError\u001b[0m                                 Traceback (most recent call last)",
            "\u001b[0;32m<ipython-input-36-3d2dcf631e61>\u001b[0m in \u001b[0;36m<cell line: 6>\u001b[0;34m()\u001b[0m\n\u001b[1;32m      4\u001b[0m \u001b[0mtype\u001b[0m\u001b[0;34m(\u001b[0m\u001b[0my\u001b[0m\u001b[0;34m)\u001b[0m\u001b[0;34m\u001b[0m\u001b[0;34m\u001b[0m\u001b[0m\n\u001b[1;32m      5\u001b[0m \u001b[0mX\u001b[0m\u001b[0;34m.\u001b[0m\u001b[0mshape\u001b[0m\u001b[0;34m\u001b[0m\u001b[0;34m\u001b[0m\u001b[0m\n\u001b[0;32m----> 6\u001b[0;31m \u001b[0mX\u001b[0m\u001b[0;34m.\u001b[0m\u001b[0mmean\u001b[0m\u001b[0;34m(\u001b[0m\u001b[0mX\u001b[0m\u001b[0;34m,\u001b[0m\u001b[0maxis\u001b[0m\u001b[0;34m=\u001b[0m\u001b[0;36m0\u001b[0m\u001b[0;34m)\u001b[0m\u001b[0;34m\u001b[0m\u001b[0;34m\u001b[0m\u001b[0m\n\u001b[0m",
            "\u001b[0;31mTypeError\u001b[0m: _mean() got multiple values for argument 'axis'"
          ]
        }
      ]
    },
    {
      "cell_type": "code",
      "source": [],
      "metadata": {
        "id": "InVVpHNiSmMu"
      },
      "execution_count": null,
      "outputs": []
    }
  ]
}