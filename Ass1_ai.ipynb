{
  "nbformat": 4,
  "nbformat_minor": 0,
  "metadata": {
    "colab": {
      "provenance": [],
      "authorship_tag": "ABX9TyM8oCcs6MpW+dWgUCKDmEeB",
      "include_colab_link": true
    },
    "kernelspec": {
      "name": "python3",
      "display_name": "Python 3"
    },
    "language_info": {
      "name": "python"
    }
  },
  "cells": [
    {
      "cell_type": "markdown",
      "metadata": {
        "id": "view-in-github",
        "colab_type": "text"
      },
      "source": [
        "<a href=\"https://colab.research.google.com/github/Vanshika-goyal1/AI-Lab/blob/main/Ass1_ai.ipynb\" target=\"_parent\"><img src=\"https://colab.research.google.com/assets/colab-badge.svg\" alt=\"Open In Colab\"/></a>"
      ]
    },
    {
      "cell_type": "markdown",
      "source": [
        "Name :- Vanshika Goyal\n",
        "\n",
        "Roll Number :- 102215194\n",
        "\n",
        "Lab Assignment - 1"
      ],
      "metadata": {
        "id": "KOd4BjCv-fOB"
      }
    },
    {
      "cell_type": "markdown",
      "source": [
        "1. Given two lists—one containing keys and the other containing values.\n",
        "Create a dictionary by pairing corresponding elements from both lists."
      ],
      "metadata": {
        "id": "_yUz9e7t_Y6P"
      }
    },
    {
      "cell_type": "code",
      "source": [
        "keys = ['a','b','c']\n",
        "values = [1,2,3]\n",
        "dictionary = dict(zip(keys,values))   # zip(keys, values): This pairs each element from the keys list with the corresponding element from the values list, forming tuples like ('a', 1), ('b', 2), and ('c', 3)\n",
        "print(\"The created dictionary is: \", dictionary)   # dict(): Converts the list of tuples created by zip into a dictionary,"
      ],
      "metadata": {
        "colab": {
          "base_uri": "https://localhost:8080/"
        },
        "id": "C3Ry8TPD_2LL",
        "outputId": "82cc116b-3744-4929-dd5a-e13ae6ec0d10"
      },
      "execution_count": null,
      "outputs": [
        {
          "output_type": "stream",
          "name": "stdout",
          "text": [
            "The created dictionary is:  {'a': 1, 'b': 2, 'c': 3}\n"
          ]
        }
      ]
    },
    {
      "cell_type": "markdown",
      "source": [
        "2. Write a program that compares two numbers and prints whether they\n",
        "are equal, not equal, greater than, or less than each other."
      ],
      "metadata": {
        "id": "ZZ1LzEDLpK4r"
      }
    },
    {
      "cell_type": "code",
      "source": [
        "num1 = float(input(\"Enter the first number: \"))\n",
        "num2 = float(input(\"Enter the second number: \"))\n",
        "\n",
        "if num1 == num2:\n",
        "  print(\"The numbers are equal\")\n",
        "elif num1 > num2:\n",
        "  print(\"The first number is greater\")\n",
        "else:\n",
        "  print(\"The first number is less\")"
      ],
      "metadata": {
        "colab": {
          "base_uri": "https://localhost:8080/"
        },
        "id": "xu6gZzmApQLM",
        "outputId": "9e14d6f5-9062-45e5-91a4-7e18b7c224c9"
      },
      "execution_count": null,
      "outputs": [
        {
          "output_type": "stream",
          "name": "stdout",
          "text": [
            "Enter the first number: 3.2\n",
            "Enter the second number: 3.5\n",
            "The first number is less\n"
          ]
        }
      ]
    },
    {
      "cell_type": "markdown",
      "source": [
        "3. Create a list of length 10 of your choice containing multiple types of\n",
        "data. Using for loop print the element and its data type."
      ],
      "metadata": {
        "id": "_on0dWLzqsPq"
      }
    },
    {
      "cell_type": "code",
      "source": [
        "my_list = [42,\"hello\",3.14,True,None,[1,2,3],{'key':'Value'},(5,6),8.9,b'byte']\n",
        "for i in range(len(my_list)):\n",
        "  print(f\"Element: {my_list[i]}, Type: {type(my_list[i])}\")  # f-string format\n",
        "\n",
        "  # Using string concatenation instead of f-string\n",
        "  # print(\"Element: \" + str(my_list[i]) + \", Type: \" + str(type(my_list[i])))"
      ],
      "metadata": {
        "colab": {
          "base_uri": "https://localhost:8080/"
        },
        "id": "gHzy5W7vq2DG",
        "outputId": "e34d86dd-a8dd-4e3d-fa7a-5fc3b4dc2526"
      },
      "execution_count": null,
      "outputs": [
        {
          "output_type": "stream",
          "name": "stdout",
          "text": [
            "Element: 42, Type: <class 'int'>\n",
            "Element: hello, Type: <class 'str'>\n",
            "Element: 3.14, Type: <class 'float'>\n",
            "Element: True, Type: <class 'bool'>\n",
            "Element: None, Type: <class 'NoneType'>\n",
            "Element: [1, 2, 3], Type: <class 'list'>\n",
            "Element: {'key': 'Value'}, Type: <class 'dict'>\n",
            "Element: (5, 6), Type: <class 'tuple'>\n",
            "Element: 8.9, Type: <class 'float'>\n",
            "Element: b'byte', Type: <class 'bytes'>\n"
          ]
        }
      ]
    },
    {
      "cell_type": "markdown",
      "source": [
        "4. Using a while loop, verify if the number A is purely divisible by number\n",
        "B and if so then how many times it can be divisible."
      ],
      "metadata": {
        "id": "NnHVKOPhuPWX"
      }
    },
    {
      "cell_type": "code",
      "source": [
        "# Input numbers A and B\n",
        "A = int(input(\"Enter number A: \"))\n",
        "B = int(input(\"Enter number B: \"))\n",
        "\n",
        "# Ensure B is not zero to avoid division by zero error\n",
        "if B == 0:\n",
        "    print(\"Division by zero is not allowed.\")\n",
        "else:\n",
        "    # Initialize counters\n",
        "    count = 0\n",
        "    original_A = A  # Store the original value of A for reference\n",
        "\n",
        "    # Calculate the total number of times A can be divided by B\n",
        "    total_divisions = original_A // B\n",
        "\n",
        "    # Use a while loop to check divisibility in sequence\n",
        "    while A % B == 0:\n",
        "        A //= B  # Divide A by B and update A\n",
        "        count += 1  # Increment the count\n",
        "\n",
        "    # Output the results\n",
        "    if count > 0:\n",
        "        print(f\"Number {original_A} can be divided by number {B} {count} times in sequence.\")\n",
        "    else:\n",
        "        print(f\"Number {original_A} is not divisible by number {B}.\")\n",
        "\n",
        "    print(f\"Number {original_A} can be divided by number {B} a total of {total_divisions} times.\")"
      ],
      "metadata": {
        "colab": {
          "base_uri": "https://localhost:8080/"
        },
        "id": "3ak87FjPuUum",
        "outputId": "95c66fa9-5ffe-4a4c-ef29-69b512d83128"
      },
      "execution_count": null,
      "outputs": [
        {
          "output_type": "stream",
          "name": "stdout",
          "text": [
            "Enter number A: 10\n",
            "Enter number B: 2\n",
            "Number 10 can be divided by number 2 1 times in sequence.\n",
            "Number 10 can be divided by number 2 a total of 5 times.\n"
          ]
        }
      ]
    },
    {
      "cell_type": "markdown",
      "source": [
        "5. Create a list containing 25 integer type data. Using for loop and if-else\n",
        "condition print if the element is divisible by 3 or not."
      ],
      "metadata": {
        "id": "LXnJJezHygZn"
      }
    },
    {
      "cell_type": "code",
      "source": [
        "integer_list = [i for i in range(1,26)] # Create a list containing 25 integer values from 1 to 25\n",
        "\n",
        "for number in integer_list:   # Loop through each element in the list\n",
        "  if number % 3 == 0:\n",
        "    print(f\"{number} is divisible by 3.\")\n",
        "  else:\n",
        "    print(f\"{number} is not divisible by 3.\")"
      ],
      "metadata": {
        "colab": {
          "base_uri": "https://localhost:8080/"
        },
        "id": "hBrjkpB_ylK9",
        "outputId": "03dc1130-fdb5-40bf-a6cd-420f14b11a38"
      },
      "execution_count": null,
      "outputs": [
        {
          "output_type": "stream",
          "name": "stdout",
          "text": [
            "1 is not divisible by 3.\n",
            "2 is not divisible by 3.\n",
            "3 is divisible by 3.\n",
            "4 is not divisible by 3.\n",
            "5 is not divisible by 3.\n",
            "6 is divisible by 3.\n",
            "7 is not divisible by 3.\n",
            "8 is not divisible by 3.\n",
            "9 is divisible by 3.\n",
            "10 is not divisible by 3.\n",
            "11 is not divisible by 3.\n",
            "12 is divisible by 3.\n",
            "13 is not divisible by 3.\n",
            "14 is not divisible by 3.\n",
            "15 is divisible by 3.\n",
            "16 is not divisible by 3.\n",
            "17 is not divisible by 3.\n",
            "18 is divisible by 3.\n",
            "19 is not divisible by 3.\n",
            "20 is not divisible by 3.\n",
            "21 is divisible by 3.\n",
            "22 is not divisible by 3.\n",
            "23 is not divisible by 3.\n",
            "24 is divisible by 3.\n",
            "25 is not divisible by 3.\n"
          ]
        }
      ]
    },
    {
      "cell_type": "markdown",
      "source": [
        "**Libraries**"
      ],
      "metadata": {
        "id": "s1gYcSSbHdqA"
      }
    },
    {
      "cell_type": "code",
      "source": [
        "import numpy as np"
      ],
      "metadata": {
        "id": "Vb7SUonxIQ4W"
      },
      "execution_count": null,
      "outputs": []
    },
    {
      "cell_type": "code",
      "execution_count": null,
      "metadata": {
        "colab": {
          "base_uri": "https://localhost:8080/"
        },
        "id": "Y6l7URKHHciC",
        "outputId": "7e0e0e9c-2d10-458f-a0be-c3baa8af2606"
      },
      "outputs": [
        {
          "output_type": "execute_result",
          "data": {
            "text/plain": [
              "32"
            ]
          },
          "metadata": {},
          "execution_count": 3
        }
      ],
      "source": [
        "a = np.array([1, 2, 3])\n",
        "b = np.array([4, 5, 6])\n",
        "np.dot(a,b)"
      ]
    },
    {
      "cell_type": "code",
      "source": [
        "A = np.linspace(1,10,10)\n",
        "print(A)"
      ],
      "metadata": {
        "colab": {
          "base_uri": "https://localhost:8080/"
        },
        "id": "jG6fV85HNKiq",
        "outputId": "84f36cc2-2b0b-412b-825e-c6fbebe4cf34"
      },
      "execution_count": null,
      "outputs": [
        {
          "output_type": "stream",
          "name": "stdout",
          "text": [
            "[ 1.  2.  3.  4.  5.  6.  7.  8.  9. 10.]\n"
          ]
        }
      ]
    },
    {
      "cell_type": "code",
      "source": [
        "j = np.array([[1, 2, 3],[ 4, 5, 6],[7, 8, 9]])\n",
        "j[0][1] = 999\n",
        "j[0][2] = 999\n",
        "j[1][1] = 999\n",
        "j[1][2] = 999\n",
        "print(j)"
      ],
      "metadata": {
        "colab": {
          "base_uri": "https://localhost:8080/"
        },
        "id": "qODR8GwaOGLh",
        "outputId": "63545df1-35f9-418a-f604-17370227db4b"
      },
      "execution_count": null,
      "outputs": [
        {
          "output_type": "stream",
          "name": "stdout",
          "text": [
            "[[  1 999 999]\n",
            " [  4 999 999]\n",
            " [  7   8   9]]\n"
          ]
        }
      ]
    },
    {
      "cell_type": "code",
      "source": [
        "# Coefficient matrix A\n",
        "A = np.array([[3, 2],\n",
        "              [10, -1]])\n",
        "\n",
        "# Constant matrix B\n",
        "B = np.array([5, 3])\n",
        "\n",
        "# Inverse of matrix A\n",
        "A_inv = np.linalg.inv(A)\n",
        "\n",
        "# Multiplying A_inv with B to get the solution\n",
        "solution = np.dot(A_inv, B)\n",
        "\n",
        "print(\"The solution is:\", solution)"
      ],
      "metadata": {
        "colab": {
          "base_uri": "https://localhost:8080/"
        },
        "id": "mF68dKF2TOer",
        "outputId": "8e6c0123-9c31-4152-e215-a65485c33abc"
      },
      "execution_count": null,
      "outputs": [
        {
          "output_type": "stream",
          "name": "stdout",
          "text": [
            "The solution is: [0.47826087 1.7826087 ]\n"
          ]
        }
      ]
    },
    {
      "cell_type": "code",
      "source": [
        "a = np.array([1,2,3,4,5,6])\n",
        "b = np.array([7,8,9,10,12,17])\n",
        "mse = np.mean()"
      ],
      "metadata": {
        "id": "GeuuMLmKUvF8"
      },
      "execution_count": null,
      "outputs": []
    },
    {
      "cell_type": "markdown",
      "source": [
        "3. Generate a 5 by 5 random matrix and find the maximum, minimum,\n",
        "average (mean) & variance values along all axes."
      ],
      "metadata": {
        "id": "ZDaGmzzGG-nL"
      }
    },
    {
      "cell_type": "code",
      "source": [
        "import numpy as np\n",
        "A = np.random.randint(3,10,size=(5,5))\n",
        "print(A)\n",
        "A.mean()\n",
        "A.min()\n",
        "\n",
        "# b = np.random.randn(5)   # for normalization Gaussian\n",
        "# b"
      ],
      "metadata": {
        "colab": {
          "base_uri": "https://localhost:8080/"
        },
        "id": "n0TAcDUNHDDR",
        "outputId": "1299c435-722d-4bad-d91a-e2c02ea8395b"
      },
      "execution_count": null,
      "outputs": [
        {
          "output_type": "stream",
          "name": "stdout",
          "text": [
            "[[3 3 3 7 4]\n",
            " [9 6 9 5 4]\n",
            " [9 9 3 6 4]\n",
            " [7 4 4 7 3]\n",
            " [5 3 3 3 5]]\n"
          ]
        },
        {
          "output_type": "execute_result",
          "data": {
            "text/plain": [
              "3"
            ]
          },
          "metadata": {},
          "execution_count": 7
        }
      ]
    },
    {
      "cell_type": "markdown",
      "source": [
        "5. Find the mean square error between two array A = [1,2,3,4,5,6] & B =\n",
        "[7,8,9,10,12,17] using function in Numpy module."
      ],
      "metadata": {
        "id": "jXw1mRj0J55Q"
      }
    },
    {
      "cell_type": "markdown",
      "source": [
        "Students based on quality(honesty,Courage,intelligence) converting into numbers :- **feature network matrix**,\n",
        "**gradient descent**, Importance of mse:- To calculate loss"
      ],
      "metadata": {
        "id": "cjGtf_apKDPJ"
      }
    },
    {
      "cell_type": "code",
      "source": [],
      "metadata": {
        "id": "6rH_DwDxJ--J"
      },
      "execution_count": null,
      "outputs": []
    }
  ]
}