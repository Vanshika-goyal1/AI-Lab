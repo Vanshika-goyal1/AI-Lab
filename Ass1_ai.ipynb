{
  "nbformat": 4,
  "nbformat_minor": 0,
  "metadata": {
    "colab": {
      "provenance": [],
      "authorship_tag": "ABX9TyPcK9WibKBkY6gLOq0PaiJD",
      "include_colab_link": true
    },
    "kernelspec": {
      "name": "python3",
      "display_name": "Python 3"
    },
    "language_info": {
      "name": "python"
    }
  },
  "cells": [
    {
      "cell_type": "markdown",
      "metadata": {
        "id": "view-in-github",
        "colab_type": "text"
      },
      "source": [
        "<a href=\"https://colab.research.google.com/github/Vanshika-goyal1/AI-Lab/blob/main/Ass1_ai.ipynb\" target=\"_parent\"><img src=\"https://colab.research.google.com/assets/colab-badge.svg\" alt=\"Open In Colab\"/></a>"
      ]
    },
    {
      "cell_type": "markdown",
      "source": [
        "Name :- Vanshika Goyal\n",
        "\n",
        "Roll Number :- 102215194\n",
        "\n",
        "Lab Assignment - 1"
      ],
      "metadata": {
        "id": "KOd4BjCv-fOB"
      }
    },
    {
      "cell_type": "markdown",
      "source": [
        "1. Given two lists—one containing keys and the other containing values.\n",
        "Create a dictionary by pairing corresponding elements from both lists."
      ],
      "metadata": {
        "id": "_yUz9e7t_Y6P"
      }
    },
    {
      "cell_type": "code",
      "source": [
        "keys = ['a','b','c']\n",
        "values = [1,2,3]\n",
        "dictionary = dict(zip(keys,values))   # zip(keys, values): This pairs each element from the keys list with the corresponding element from the values list, forming tuples like ('a', 1), ('b', 2), and ('c', 3)\n",
        "print(\"The created dictionary is: \", dictionary)   # dict(): Converts the list of tuples created by zip into a dictionary,"
      ],
      "metadata": {
        "colab": {
          "base_uri": "https://localhost:8080/"
        },
        "id": "C3Ry8TPD_2LL",
        "outputId": "82cc116b-3744-4929-dd5a-e13ae6ec0d10"
      },
      "execution_count": null,
      "outputs": [
        {
          "output_type": "stream",
          "name": "stdout",
          "text": [
            "The created dictionary is:  {'a': 1, 'b': 2, 'c': 3}\n"
          ]
        }
      ]
    },
    {
      "cell_type": "markdown",
      "source": [
        "2. Write a program that compares two numbers and prints whether they\n",
        "are equal, not equal, greater than, or less than each other."
      ],
      "metadata": {
        "id": "ZZ1LzEDLpK4r"
      }
    },
    {
      "cell_type": "code",
      "source": [
        "num1 = float(input(\"Enter the first number: \"))\n",
        "num2 = float(input(\"Enter the second number: \"))\n",
        "\n",
        "if num1 == num2:\n",
        "  print(\"The numbers are equal\")\n",
        "elif num1 > num2:\n",
        "  print(\"The first number is greater\")\n",
        "else:\n",
        "  print(\"The first number is less\")"
      ],
      "metadata": {
        "colab": {
          "base_uri": "https://localhost:8080/"
        },
        "id": "xu6gZzmApQLM",
        "outputId": "9e14d6f5-9062-45e5-91a4-7e18b7c224c9"
      },
      "execution_count": null,
      "outputs": [
        {
          "output_type": "stream",
          "name": "stdout",
          "text": [
            "Enter the first number: 3.2\n",
            "Enter the second number: 3.5\n",
            "The first number is less\n"
          ]
        }
      ]
    },
    {
      "cell_type": "markdown",
      "source": [
        "3. Create a list of length 10 of your choice containing multiple types of\n",
        "data. Using for loop print the element and its data type."
      ],
      "metadata": {
        "id": "_on0dWLzqsPq"
      }
    },
    {
      "cell_type": "code",
      "source": [
        "my_list = [42,\"hello\",3.14,True,None,[1,2,3],{'key':'Value'},(5,6),8.9,b'byte']\n",
        "for i in range(len(my_list)):\n",
        "  print(f\"Element: {my_list[i]}, Type: {type(my_list[i])}\")  # f-string format\n",
        "\n",
        "  # Using string concatenation instead of f-string\n",
        "  # print(\"Element: \" + str(my_list[i]) + \", Type: \" + str(type(my_list[i])))"
      ],
      "metadata": {
        "colab": {
          "base_uri": "https://localhost:8080/"
        },
        "id": "gHzy5W7vq2DG",
        "outputId": "e34d86dd-a8dd-4e3d-fa7a-5fc3b4dc2526"
      },
      "execution_count": null,
      "outputs": [
        {
          "output_type": "stream",
          "name": "stdout",
          "text": [
            "Element: 42, Type: <class 'int'>\n",
            "Element: hello, Type: <class 'str'>\n",
            "Element: 3.14, Type: <class 'float'>\n",
            "Element: True, Type: <class 'bool'>\n",
            "Element: None, Type: <class 'NoneType'>\n",
            "Element: [1, 2, 3], Type: <class 'list'>\n",
            "Element: {'key': 'Value'}, Type: <class 'dict'>\n",
            "Element: (5, 6), Type: <class 'tuple'>\n",
            "Element: 8.9, Type: <class 'float'>\n",
            "Element: b'byte', Type: <class 'bytes'>\n"
          ]
        }
      ]
    },
    {
      "cell_type": "markdown",
      "source": [
        "4. Using a while loop, verify if the number A is purely divisible by number\n",
        "B and if so then how many times it can be divisible."
      ],
      "metadata": {
        "id": "NnHVKOPhuPWX"
      }
    },
    {
      "cell_type": "code",
      "source": [
        "# Input numbers A and B\n",
        "A = int(input(\"Enter number A: \"))\n",
        "B = int(input(\"Enter number B: \"))\n",
        "\n",
        "# Ensure B is not zero to avoid division by zero error\n",
        "if B == 0:\n",
        "    print(\"Division by zero is not allowed.\")\n",
        "else:\n",
        "    # Initialize counters\n",
        "    count = 0\n",
        "    original_A = A  # Store the original value of A for reference\n",
        "\n",
        "    # Calculate the total number of times A can be divided by B\n",
        "    total_divisions = original_A // B\n",
        "\n",
        "    # Use a while loop to check divisibility in sequence\n",
        "    while A % B == 0:\n",
        "        A //= B  # Divide A by B and update A\n",
        "        count += 1  # Increment the count\n",
        "\n",
        "    if count > 0:\n",
        "        print(f\"Number {original_A} can be divided by number {B} {count} times in sequence.\")\n",
        "    else:\n",
        "        print(f\"Number {original_A} is not divisible by number {B}.\")\n",
        "\n",
        "    print(f\"Number {original_A} can be divided by number {B} a total of {total_divisions} times.\")"
      ],
      "metadata": {
        "colab": {
          "base_uri": "https://localhost:8080/"
        },
        "id": "3ak87FjPuUum",
        "outputId": "95c66fa9-5ffe-4a4c-ef29-69b512d83128"
      },
      "execution_count": null,
      "outputs": [
        {
          "output_type": "stream",
          "name": "stdout",
          "text": [
            "Enter number A: 10\n",
            "Enter number B: 2\n",
            "Number 10 can be divided by number 2 1 times in sequence.\n",
            "Number 10 can be divided by number 2 a total of 5 times.\n"
          ]
        }
      ]
    },
    {
      "cell_type": "markdown",
      "source": [
        "5. Create a list containing 25 integer type data. Using for loop and if-else\n",
        "condition print if the element is divisible by 3 or not."
      ],
      "metadata": {
        "id": "LXnJJezHygZn"
      }
    },
    {
      "cell_type": "code",
      "source": [
        "integer_list = [i for i in range(1,26)] # Create a list containing 25 integer values from 1 to 25\n",
        "\n",
        "for number in integer_list:   # Loop through each element in the list\n",
        "  if number % 3 == 0:\n",
        "    print(f\"{number} is divisible by 3.\")\n",
        "  else:\n",
        "    print(f\"{number} is not divisible by 3.\")"
      ],
      "metadata": {
        "colab": {
          "base_uri": "https://localhost:8080/"
        },
        "id": "hBrjkpB_ylK9",
        "outputId": "03dc1130-fdb5-40bf-a6cd-420f14b11a38"
      },
      "execution_count": null,
      "outputs": [
        {
          "output_type": "stream",
          "name": "stdout",
          "text": [
            "1 is not divisible by 3.\n",
            "2 is not divisible by 3.\n",
            "3 is divisible by 3.\n",
            "4 is not divisible by 3.\n",
            "5 is not divisible by 3.\n",
            "6 is divisible by 3.\n",
            "7 is not divisible by 3.\n",
            "8 is not divisible by 3.\n",
            "9 is divisible by 3.\n",
            "10 is not divisible by 3.\n",
            "11 is not divisible by 3.\n",
            "12 is divisible by 3.\n",
            "13 is not divisible by 3.\n",
            "14 is not divisible by 3.\n",
            "15 is divisible by 3.\n",
            "16 is not divisible by 3.\n",
            "17 is not divisible by 3.\n",
            "18 is divisible by 3.\n",
            "19 is not divisible by 3.\n",
            "20 is not divisible by 3.\n",
            "21 is divisible by 3.\n",
            "22 is not divisible by 3.\n",
            "23 is not divisible by 3.\n",
            "24 is divisible by 3.\n",
            "25 is not divisible by 3.\n"
          ]
        }
      ]
    },
    {
      "cell_type": "markdown",
      "source": [
        "6. Given a list my list = [1, 2, 3, 4, 5], write the code to slice the list and\n",
        "obtain the sub-list [2, 3]."
      ],
      "metadata": {
        "id": "JmTVQU6IsvB2"
      }
    },
    {
      "cell_type": "code",
      "source": [
        "my_list = [1,2,3,4,5]\n",
        "sub_list = my_list[1:3]\n",
        "print(sub_list)"
      ],
      "metadata": {
        "colab": {
          "base_uri": "https://localhost:8080/"
        },
        "id": "fgT5C2T4s3-j",
        "outputId": "1a875eb5-1697-46df-c9c1-a0f8c7db3dd7"
      },
      "execution_count": null,
      "outputs": [
        {
          "output_type": "stream",
          "name": "stdout",
          "text": [
            "[2, 3]\n"
          ]
        }
      ]
    },
    {
      "cell_type": "markdown",
      "source": [
        "7. Given the string \"Hello, World!\", extract the sub-string \"World\"."
      ],
      "metadata": {
        "id": "iS-bTAVVtOzv"
      }
    },
    {
      "cell_type": "code",
      "source": [
        "my_string = \"Hello, World!\"\n",
        "sub_string = my_string[7:12]\n",
        "print(sub_string)"
      ],
      "metadata": {
        "colab": {
          "base_uri": "https://localhost:8080/"
        },
        "id": "_9Z5v_yPtS2y",
        "outputId": "cacc8c3d-82ca-460e-be51-3518c66dc1c3"
      },
      "execution_count": null,
      "outputs": [
        {
          "output_type": "stream",
          "name": "stdout",
          "text": [
            "World\n"
          ]
        }
      ]
    },
    {
      "cell_type": "markdown",
      "source": [
        "8. Calculate the multiplication and sum of two numbers: Given two integer\n",
        "numbers, return their product only if the product is equal to or lower\n",
        "than 1000. Otherwise, return their sum."
      ],
      "metadata": {
        "id": "5L5uNv51uLGz"
      }
    },
    {
      "cell_type": "code",
      "source": [
        "def multiply_or_sum(num1,num2):\n",
        "  product = num1 * num2\n",
        "  if product <= 1000:\n",
        "    return product\n",
        "  else:\n",
        "    return num1 + num2\n",
        "\n",
        "num1 = int(input(\"Enter the first number: \"))\n",
        "num2 = int(input(\"Enter the second number: \"))\n",
        "\n",
        "result = multiply_or_sum(num1,num2)\n",
        "print(\"The result is: \", result)"
      ],
      "metadata": {
        "colab": {
          "base_uri": "https://localhost:8080/"
        },
        "id": "kxPzAlmjuW8J",
        "outputId": "da9a82dd-68f2-407b-ddf9-8b6d2fec1274"
      },
      "execution_count": null,
      "outputs": [
        {
          "output_type": "stream",
          "name": "stdout",
          "text": [
            "Enter the first number: 20\n",
            "Enter the second number: 100\n",
            "The result is:  120\n"
          ]
        }
      ]
    },
    {
      "cell_type": "markdown",
      "source": [
        "9. Write a program to iterate through the first 10 numbers, and in each\n",
        "Print characters from a string that are present at an even index number.\n",
        "Accept a string from the user and display characters that are present at\n",
        "an even index number."
      ],
      "metadata": {
        "id": "qPD3oia8vW1y"
      }
    },
    {
      "cell_type": "code",
      "source": [
        "def print_even_indices(input_string):\n",
        "  for i in range(len(input_string)):\n",
        "    if i%2 == 0:\n",
        "      print(input_string[i],end = \"\")\n",
        "  print()  # New line after each iteration\n",
        "\n",
        "user_input = input(\"Enter a string: \")\n",
        "\n",
        "for _ in range(10):\n",
        "  print_even_indices(user_input)"
      ],
      "metadata": {
        "colab": {
          "base_uri": "https://localhost:8080/"
        },
        "id": "PxDSS1Uqwjv5",
        "outputId": "d464f683-37ad-4c8a-c2d4-ed0b44d5e0a5"
      },
      "execution_count": null,
      "outputs": [
        {
          "output_type": "stream",
          "name": "stdout",
          "text": [
            "Enter a string: hello world\n",
            "hlowrd\n",
            "hlowrd\n",
            "hlowrd\n",
            "hlowrd\n",
            "hlowrd\n",
            "hlowrd\n",
            "hlowrd\n",
            "hlowrd\n",
            "hlowrd\n",
            "hlowrd\n"
          ]
        }
      ]
    },
    {
      "cell_type": "markdown",
      "source": [
        "10. Write a program to iterate through the list and find the even number &\n",
        "its count."
      ],
      "metadata": {
        "id": "RfjP4U1bvwl1"
      }
    },
    {
      "cell_type": "code",
      "source": [
        "def find_even_numbers_and_count(numbers):\n",
        "  even_numbers = []\n",
        "  count = 0\n",
        "\n",
        "  for number in numbers:\n",
        "    if number % 2 == 0:           # to check if number is even\n",
        "      even_numbers.append(number)\n",
        "      count += 1\n",
        "  return even_numbers,count\n",
        "\n",
        "numbers = [1,2,3,4,5,6,7,8,9,10]\n",
        "evens,count = find_even_numbers_and_count(numbers)\n",
        "print(\"Even numbers: \", evens)\n",
        "print(\"Count of even numbers: \",count)"
      ],
      "metadata": {
        "colab": {
          "base_uri": "https://localhost:8080/"
        },
        "id": "S9Yhy27_z8xg",
        "outputId": "e09c88df-61f8-4934-f587-38581de86120"
      },
      "execution_count": null,
      "outputs": [
        {
          "output_type": "stream",
          "name": "stdout",
          "text": [
            "Even numbers:  [2, 4, 6, 8, 10]\n",
            "Count of even numbers:  5\n"
          ]
        }
      ]
    },
    {
      "cell_type": "markdown",
      "source": [
        "11. Write a program to find the minimum value of a list of numbers 5,3,8,-1,-\n",
        "  2.2,0 (Don't use built in function)."
      ],
      "metadata": {
        "id": "s0fpcHv3v7qi"
      }
    },
    {
      "cell_type": "code",
      "source": [
        "def find_minimum(numbers):\n",
        "  min_value = numbers[0]    # Initialize min_value to the first element of the list\n",
        "  for number in numbers:\n",
        "    if number < min_value:\n",
        "      min_value = number\n",
        "  return min_value\n",
        "\n",
        "numbers = [5, 3, 8, -1, -2.2, 0]\n",
        "minimum = find_minimum(numbers)\n",
        "print(\"The minimum value is: \", minimum)"
      ],
      "metadata": {
        "colab": {
          "base_uri": "https://localhost:8080/"
        },
        "id": "kGPMRS8SwIg7",
        "outputId": "b09b88b7-0847-4c3d-f15f-a10c39b8b958"
      },
      "execution_count": null,
      "outputs": [
        {
          "output_type": "stream",
          "name": "stdout",
          "text": [
            "The minimum value is:  -2.2\n"
          ]
        }
      ]
    },
    {
      "cell_type": "markdown",
      "source": [
        "\n",
        "12. Write a programme to iterate over a list of strings and check whether a\n",
        "particular word is in or not?"
      ],
      "metadata": {
        "id": "-CoDrYDGv_HX"
      }
    },
    {
      "cell_type": "code",
      "source": [
        "def find_word_in_list(strings, word):\n",
        "  for string in strings:\n",
        "    if word in string:\n",
        "      return True\n",
        "  return False\n",
        "\n",
        "strings = [\"hello world\",\"python programming\", \"find the word\",\"example string\"]\n",
        "word_to_find = \"programming\"\n",
        "\n",
        "is_present = find_word_in_list(strings, word_to_find)\n",
        "print(f\"The word '{word_to_find} is in the list: {is_present}\")"
      ],
      "metadata": {
        "colab": {
          "base_uri": "https://localhost:8080/"
        },
        "id": "s8l5i6oX1q0b",
        "outputId": "bf548fba-b0f9-4228-9011-448d808b0ce5"
      },
      "execution_count": null,
      "outputs": [
        {
          "output_type": "stream",
          "name": "stdout",
          "text": [
            "The word 'programming is in the list: True\n"
          ]
        }
      ]
    },
    {
      "cell_type": "markdown",
      "source": [
        "13. Write a programme that uses a while loop to test whether user input a\n",
        "password \"Secret\" other wise print \" Your password is incorrect\"."
      ],
      "metadata": {
        "id": "B6dVy7HGwB_v"
      }
    },
    {
      "cell_type": "code",
      "source": [
        "def check_password():\n",
        "  correct_password = \"Secret\"\n",
        "  while True:\n",
        "    user_input = input(\"Enter your password: \")\n",
        "\n",
        "    if user_input == correct_password:\n",
        "      print(\"Password accepted\")\n",
        "      break\n",
        "    else:\n",
        "      print(\"Your password is incorrect. Try again.\")\n",
        "\n",
        "check_password()"
      ],
      "metadata": {
        "colab": {
          "base_uri": "https://localhost:8080/"
        },
        "id": "f38NkFiu4Fb9",
        "outputId": "ca63c8ed-2c9a-464d-87a2-93f54c0ff957"
      },
      "execution_count": null,
      "outputs": [
        {
          "output_type": "stream",
          "name": "stdout",
          "text": [
            "Enter your password: Secret\n",
            "Password accepted\n"
          ]
        }
      ]
    },
    {
      "cell_type": "markdown",
      "source": [
        "14. Write a program to show\n",
        "(a) Exit a loop using break\n",
        "(b) Exit a loop using Continue"
      ],
      "metadata": {
        "id": "bgPUN0vUv07A"
      }
    },
    {
      "cell_type": "code",
      "source": [
        "def exit_loop_using_break():\n",
        "  count = 0\n",
        "  while True:\n",
        "    count += 1\n",
        "    if count == 5:\n",
        "      print(\"Count reached 5,exiting loop.\")\n",
        "      break\n",
        "    print(\"Count:\", count)\n",
        "\n",
        "exit_loop_using_break()"
      ],
      "metadata": {
        "colab": {
          "base_uri": "https://localhost:8080/"
        },
        "id": "KPjcbBeE5Zgi",
        "outputId": "9496477c-6ad9-4174-8c86-4bb166735131"
      },
      "execution_count": null,
      "outputs": [
        {
          "output_type": "stream",
          "name": "stdout",
          "text": [
            "Count: 1\n",
            "Count: 2\n",
            "Count: 3\n",
            "Count: 4\n",
            "Count reached 5,exiting loop.\n"
          ]
        }
      ]
    },
    {
      "cell_type": "code",
      "source": [
        "def exit_loop_using_continue():\n",
        "  count = 0\n",
        "  while count < 10:\n",
        "    count += 1\n",
        "    if count == 5:\n",
        "      print(\"Skipping count 5.\")\n",
        "      continue\n",
        "    print(\"Count:\", count)\n",
        "\n",
        "exit_loop_using_continue()"
      ],
      "metadata": {
        "colab": {
          "base_uri": "https://localhost:8080/"
        },
        "id": "SFThwAxc6OOu",
        "outputId": "ff80802f-13e9-4bfb-885a-f4ab06bb9ce0"
      },
      "execution_count": null,
      "outputs": [
        {
          "output_type": "stream",
          "name": "stdout",
          "text": [
            "Count: 1\n",
            "Count: 2\n",
            "Count: 3\n",
            "Count: 4\n",
            "Skipping count 5.\n",
            "Count: 6\n",
            "Count: 7\n",
            "Count: 8\n",
            "Count: 9\n",
            "Count: 10\n"
          ]
        }
      ]
    },
    {
      "cell_type": "markdown",
      "source": [
        "15. Write a programme that asks the user for number (int) . It computes\n",
        "the average of a number & allows the user to enter -1 to quit."
      ],
      "metadata": {
        "id": "nhiFyqxt7kTU"
      }
    },
    {
      "cell_type": "code",
      "source": [
        "def compute_average():\n",
        "  total_sum = 0\n",
        "  count = 0\n",
        "\n",
        "  while True:\n",
        "    number = int(input(\"Enter a number: \"))\n",
        "    if number == -1:\n",
        "      break\n",
        "    total_sum += number\n",
        "    count += 1\n",
        "\n",
        "    if count == 0:\n",
        "      print(\"No valid numbers were entered.\")\n",
        "    else:\n",
        "      average = total_sum/count\n",
        "      print(f\"The average of the entered numbers is: {average:.2f}\")\n",
        "\n",
        "compute_average()"
      ],
      "metadata": {
        "colab": {
          "base_uri": "https://localhost:8080/"
        },
        "id": "QDe_rsnU8FVW",
        "outputId": "9ac6dfb2-17c6-460e-cfa1-6f99aa81a713"
      },
      "execution_count": null,
      "outputs": [
        {
          "name": "stdout",
          "output_type": "stream",
          "text": [
            "Enter a number: 10\n",
            "The average of the entered numbers is: 10.00\n",
            "Enter a number: 20\n",
            "The average of the entered numbers is: 15.00\n",
            "Enter a number: 5\n",
            "The average of the entered numbers is: 11.67\n",
            "Enter a number: -1\n"
          ]
        }
      ]
    },
    {
      "cell_type": "markdown",
      "source": [
        "16. Write a programme with function get_factor that takes an integer as a\n",
        "parameter and return a list of factors of that number."
      ],
      "metadata": {
        "id": "dC_tIILi9Qil"
      }
    },
    {
      "cell_type": "code",
      "source": [
        "def get_factors(number):\n",
        "  factors = []     # empty list\n",
        "\n",
        "  for i in range(1,number+1):     # Iterate through possible factors from 1 to the number\n",
        "    if number % i == 0:\n",
        "      factors.append(i)\n",
        "  return factors\n",
        "\n",
        "num = int(input(\"Enter an integer: \"))\n",
        "factors = get_factors(num)\n",
        "print(f\"The factors of {num} are: {factors}\")"
      ],
      "metadata": {
        "colab": {
          "base_uri": "https://localhost:8080/"
        },
        "id": "lVdaahYw9ViN",
        "outputId": "b61ee140-0143-4539-fe9a-1364f8556627"
      },
      "execution_count": null,
      "outputs": [
        {
          "output_type": "stream",
          "name": "stdout",
          "text": [
            "Enter an integer: 10\n",
            "The factors of 10 are: [1, 2, 5, 10]\n"
          ]
        }
      ]
    },
    {
      "cell_type": "markdown",
      "source": [
        "17. Write a program with a function unique_list that takes a list of numbers\n",
        "as a parameter and return a new list with the unique list."
      ],
      "metadata": {
        "id": "aoFBO1xu_h4x"
      }
    },
    {
      "cell_type": "code",
      "source": [
        "def unique_list(numbers):\n",
        "  unique_numbers = []\n",
        "  for number in numbers:\n",
        "    if number not in unique_numbers:\n",
        "      unique_numbers.append(number)\n",
        "  return unique_numbers\n",
        "\n",
        "input_list = [1, 2, 2, 3, 4, 4, 5, 1]\n",
        "unique_numbers = unique_list(input_list)\n",
        "print(\"Unique numbers: \", unique_numbers)"
      ],
      "metadata": {
        "colab": {
          "base_uri": "https://localhost:8080/"
        },
        "id": "bWRIzsnMBFhC",
        "outputId": "41ba1ea0-7afc-46e3-f39d-9b38f25a07d2"
      },
      "execution_count": null,
      "outputs": [
        {
          "output_type": "stream",
          "name": "stdout",
          "text": [
            "Unique numbers:  [1, 2, 3, 4, 5]\n"
          ]
        }
      ]
    },
    {
      "cell_type": "markdown",
      "source": [
        "18. Write a programme to create a dictionary of three students with their\n",
        "details like name,grades & attendance of 5 subjects in list. Then create\n",
        "another dictionary which is having roll no as keys and name of the\n",
        "students as values. Write another programme to get average of all the\n",
        "marks."
      ],
      "metadata": {
        "id": "sPy-A6-fB_P1"
      }
    },
    {
      "cell_type": "code",
      "source": [
        "students = {\n",
        "    201: {\n",
        "        \"name\" : \"Rahul\",\n",
        "        \"grades\" : [88,76,90,85,91],\n",
        "        \"attendance\": [True,True,True,False,True]\n",
        "    },\n",
        "    202: {\n",
        "        \"name\": \"Sneha\",\n",
        "        \"grades\": [92, 81, 77, 89, 86],\n",
        "        \"attendance\": [True, False, True, True, True]\n",
        "    },\n",
        "    203: {\n",
        "        \"name\": \"Arjun\",\n",
        "        \"grades\": [85, 87, 84, 82, 88],\n",
        "        \"attendance\": [True, True, False, True, True]\n",
        "    }\n",
        "}\n",
        "\n",
        "# Dictionary Comprehension\n",
        "roll_no_to_name = {roll_no: details[\"name\"] for roll_no, details in students.items()}\n",
        "\n",
        "def calculate_averages(students):\n",
        "  averages = {}\n",
        "\n",
        "  for roll_no, details in students.items():\n",
        "    grades = details[\"grades\"]\n",
        "    average = sum(grades) / len(grades)\n",
        "    averages[roll_no] = average\n",
        "  return averages\n",
        "\n",
        "print(\"Roll Number to Name Mapping:\", roll_no_to_name)\n",
        "\n",
        "averages = calculate_averages(students)\n",
        "for roll_no, avg in averages.items():\n",
        "    print(f\"Average marks for {roll_no_to_name[roll_no]} (Roll No: {roll_no}): {avg:.2f}\")"
      ],
      "metadata": {
        "colab": {
          "base_uri": "https://localhost:8080/"
        },
        "id": "W_VTQH-PCHK5",
        "outputId": "b3073415-65f2-4a47-f24a-320ed18b1f52"
      },
      "execution_count": null,
      "outputs": [
        {
          "output_type": "stream",
          "name": "stdout",
          "text": [
            "Roll Number to Name Mapping: {201: 'Rahul', 202: 'Sneha', 203: 'Arjun'}\n",
            "Average marks for Rahul (Roll No: 201): 86.00\n",
            "Average marks for Sneha (Roll No: 202): 85.00\n",
            "Average marks for Arjun (Roll No: 203): 85.20\n"
          ]
        }
      ]
    }
  ]
}